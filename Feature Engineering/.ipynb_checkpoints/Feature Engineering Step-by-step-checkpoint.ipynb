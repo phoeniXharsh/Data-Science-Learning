{
 "cells": [
  {
   "cell_type": "markdown",
   "id": "29be2554",
   "metadata": {},
   "source": [
    "### Step 1: Exploratory Data Analysis(EDA)\n",
    "##### Raw data- (json or csv format) \n",
    "- Numerical feature may be there(Analyse it)\n",
    "- Categorical Features (Analyse it)\n",
    "- Missing Values (Visualize by graphs)\n",
    "- Outliers (Box plots)\n",
    "- Cleaning"
   ]
  },
  {
   "cell_type": "markdown",
   "id": "7e729b78",
   "metadata": {},
   "source": [
    "### Step 2: Handling Missing Values\n",
    " - Mean\n",
    " - Median\n",
    " - Mode"
   ]
  },
  {
   "cell_type": "markdown",
   "id": "3a259278",
   "metadata": {},
   "source": [
    "### Step 3: Handling Imbalanced Dataset"
   ]
  },
  {
   "cell_type": "markdown",
   "id": "4bcc4cc1",
   "metadata": {},
   "source": [
    "### Step 4: Treating the Outliers"
   ]
  },
  {
   "cell_type": "markdown",
   "id": "cb9c2a40",
   "metadata": {},
   "source": [
    "### Step 5: Scaling down the data (Standardization and Normalization)"
   ]
  },
  {
   "cell_type": "markdown",
   "id": "7f56b42b",
   "metadata": {},
   "source": [
    "### Step 6: Coverting the categorical feature into numerical feature"
   ]
  },
  {
   "cell_type": "code",
   "execution_count": 1,
   "id": "c0a92643",
   "metadata": {},
   "outputs": [],
   "source": [
    "# Until now the Feature Engineering part is almost 90% complete"
   ]
  },
  {
   "cell_type": "code",
   "execution_count": 2,
   "id": "e84bad8f",
   "metadata": {},
   "outputs": [],
   "source": [
    "# Now the cleaned data will passed on to Feature Selection"
   ]
  }
 ],
 "metadata": {
  "kernelspec": {
   "display_name": "Python 3 (ipykernel)",
   "language": "python",
   "name": "python3"
  },
  "language_info": {
   "codemirror_mode": {
    "name": "ipython",
    "version": 3
   },
   "file_extension": ".py",
   "mimetype": "text/x-python",
   "name": "python",
   "nbconvert_exporter": "python",
   "pygments_lexer": "ipython3",
   "version": "3.8.0"
  }
 },
 "nbformat": 4,
 "nbformat_minor": 5
}
