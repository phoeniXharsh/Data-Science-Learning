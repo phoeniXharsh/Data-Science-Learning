{
 "cells": [
  {
   "cell_type": "code",
   "execution_count": 2,
   "id": "e6ad6349",
   "metadata": {},
   "outputs": [
    {
     "name": "stdout",
     "output_type": "stream",
     "text": [
      "Collecting mysql-connector-python\n",
      "  Using cached mysql_connector_python-8.0.29-cp38-cp38-win_amd64.whl (7.7 MB)\n",
      "Requirement already satisfied: protobuf>=3.0.0 in c:\\users\\harshvardhan\\appdata\\local\\programs\\python\\python38\\lib\\site-packages (from mysql-connector-python) (3.20.1)\n",
      "Installing collected packages: mysql-connector-python\n",
      "Successfully installed mysql-connector-python-8.0.29\n",
      "Note: you may need to restart the kernel to use updated packages.\n"
     ]
    }
   ],
   "source": [
    "pip install mysql-connector-python"
   ]
  },
  {
   "cell_type": "code",
   "execution_count": 31,
   "id": "15a179c5",
   "metadata": {},
   "outputs": [],
   "source": [
    "import mysql.connector\n",
    "import pandas as pd"
   ]
  },
  {
   "cell_type": "code",
   "execution_count": 4,
   "id": "b32e2cb2",
   "metadata": {},
   "outputs": [],
   "source": [
    "mydb = mysql.connector.connect(\n",
    "    host= 'localhost',\n",
    "    user= 'root',\n",
    "    passwd= '@Harshv178',\n",
    "    database= 'company'\n",
    ")"
   ]
  },
  {
   "cell_type": "code",
   "execution_count": 6,
   "id": "257a29f7",
   "metadata": {},
   "outputs": [
    {
     "data": {
      "text/plain": [
       "mysql.connector.connection_cext.CMySQLConnection"
      ]
     },
     "execution_count": 6,
     "metadata": {},
     "output_type": "execute_result"
    }
   ],
   "source": [
    "type(mydb)"
   ]
  },
  {
   "cell_type": "code",
   "execution_count": 7,
   "id": "c2d556bb",
   "metadata": {},
   "outputs": [],
   "source": [
    "mycursor= mydb.cursor()"
   ]
  },
  {
   "cell_type": "code",
   "execution_count": 8,
   "id": "a04f7f9d",
   "metadata": {},
   "outputs": [
    {
     "data": {
      "text/plain": [
       "mysql.connector.cursor_cext.CMySQLCursor"
      ]
     },
     "execution_count": 8,
     "metadata": {},
     "output_type": "execute_result"
    }
   ],
   "source": [
    "type(mycursor)"
   ]
  },
  {
   "cell_type": "code",
   "execution_count": 16,
   "id": "224ac3ff",
   "metadata": {},
   "outputs": [],
   "source": [
    "mycursor.execute('SELECT * FROM employee')\n",
    "data= mycursor.fetchall()"
   ]
  },
  {
   "cell_type": "code",
   "execution_count": 17,
   "id": "ae9862ef",
   "metadata": {},
   "outputs": [
    {
     "data": {
      "text/plain": [
       "12"
      ]
     },
     "execution_count": 17,
     "metadata": {},
     "output_type": "execute_result"
    }
   ],
   "source": [
    "len(data)"
   ]
  },
  {
   "cell_type": "code",
   "execution_count": 29,
   "id": "6a176f27",
   "metadata": {},
   "outputs": [
    {
     "ename": "AttributeError",
     "evalue": "'list' object has no attribute 'concat'",
     "output_type": "error",
     "traceback": [
      "\u001b[1;31m---------------------------------------------------------------------------\u001b[0m",
      "\u001b[1;31mAttributeError\u001b[0m                            Traceback (most recent call last)",
      "Input \u001b[1;32mIn [29]\u001b[0m, in \u001b[0;36m<module>\u001b[1;34m\u001b[0m\n\u001b[0;32m      2\u001b[0m \u001b[38;5;28;01mfor\u001b[39;00m i \u001b[38;5;129;01min\u001b[39;00m data:\n\u001b[0;32m      3\u001b[0m     name_test\u001b[38;5;241m.\u001b[39mappend(i[\u001b[38;5;241m1\u001b[39m])\n\u001b[1;32m----> 4\u001b[0m     \u001b[43mname_test\u001b[49m\u001b[38;5;241;43m.\u001b[39;49m\u001b[43mconcat\u001b[49m(i[\u001b[38;5;241m2\u001b[39m])   \n\u001b[0;32m      5\u001b[0m name_test\n",
      "\u001b[1;31mAttributeError\u001b[0m: 'list' object has no attribute 'concat'"
     ]
    }
   ],
   "source": [
    "name_test= []\n",
    "for i in data:\n",
    "    name_test.append(i[1])\n",
    "    name_test.concat(i[2])   \n",
    "name_test"
   ]
  },
  {
   "cell_type": "code",
   "execution_count": 20,
   "id": "dfd1aca6",
   "metadata": {},
   "outputs": [],
   "source": [
    "# Scraping all the data from employee table of company database"
   ]
  },
  {
   "cell_type": "code",
   "execution_count": 21,
   "id": "f1bbbdee",
   "metadata": {},
   "outputs": [
    {
     "data": {
      "text/plain": [
       "[(100, 'David', 'Wallace', datetime.date(1967, 11, 17), 'M', 250000, None, 1),\n",
       " (101, 'Jan', 'Levinson', datetime.date(1961, 5, 11), 'F', 110000, 100, 1),\n",
       " (102, 'Michael', 'Scott', datetime.date(1964, 3, 15), 'M', 75000, 100, 2),\n",
       " (103, 'Angela', 'Martin', datetime.date(1971, 6, 25), 'F', 63000, 102, 2),\n",
       " (104, 'Kelly', 'Kapoor', datetime.date(1980, 2, 5), 'F', 55000, 102, 2),\n",
       " (105, 'Stanley', 'Hudson', datetime.date(1958, 2, 19), 'M', 69000, 102, 2),\n",
       " (106, 'Josh', 'Porter', datetime.date(1969, 9, 5), 'M', 78000, 100, 3),\n",
       " (107, 'Andy', 'Bernard', datetime.date(1973, 7, 22), 'M', 65000, 106, 3),\n",
       " (108, 'Jim', 'Halpert', datetime.date(1978, 10, 1), 'M', 71000, 106, 3),\n",
       " (109, 'Oscar', 'Martinez', datetime.date(1968, 2, 19), 'M', 69000, 106, 3),\n",
       " (110, 'Kevin', 'Malone', datetime.date(1978, 2, 19), 'M', 69000, 106, 3),\n",
       " (111, 'Pam', 'Beesly', datetime.date(1988, 2, 19), 'F', 69000, 106, 3)]"
      ]
     },
     "execution_count": 21,
     "metadata": {},
     "output_type": "execute_result"
    }
   ],
   "source": [
    "data"
   ]
  },
  {
   "cell_type": "code",
   "execution_count": 35,
   "id": "6495b3e0",
   "metadata": {},
   "outputs": [],
   "source": [
    "first_name= []\n",
    "last_name= []\n",
    "emp_id= []\n",
    "sex= []\n",
    "born= []\n",
    "salary= []\n",
    "branch_id= []\n",
    "\n",
    "for i in data:\n",
    "    first_name.append(i[1])\n",
    "    last_name.append(i[2])\n",
    "    emp_id.append(i[0])\n",
    "    born.append(i[3])\n",
    "    sex.append(i[4])\n",
    "    salary.append(i[5])\n",
    "    branch_id.append(i[6])\n",
    "    \n",
    "d= {'first_name':first_name,'last_name':last_name, \n",
    "    'emp_id':emp_id, 'born':born ,\n",
    "    'sex':sex, 'salary':salary, 'branch_id':branch_id\n",
    "    }\n",
    "    \n",
    "df = pd.DataFrame(d)"
   ]
  },
  {
   "cell_type": "code",
   "execution_count": 36,
   "id": "05e146d4",
   "metadata": {},
   "outputs": [
    {
     "data": {
      "text/html": [
       "<div>\n",
       "<style scoped>\n",
       "    .dataframe tbody tr th:only-of-type {\n",
       "        vertical-align: middle;\n",
       "    }\n",
       "\n",
       "    .dataframe tbody tr th {\n",
       "        vertical-align: top;\n",
       "    }\n",
       "\n",
       "    .dataframe thead th {\n",
       "        text-align: right;\n",
       "    }\n",
       "</style>\n",
       "<table border=\"1\" class=\"dataframe\">\n",
       "  <thead>\n",
       "    <tr style=\"text-align: right;\">\n",
       "      <th></th>\n",
       "      <th>first_name</th>\n",
       "      <th>last_name</th>\n",
       "      <th>emp_id</th>\n",
       "      <th>born</th>\n",
       "      <th>sex</th>\n",
       "      <th>salary</th>\n",
       "      <th>branch_id</th>\n",
       "    </tr>\n",
       "  </thead>\n",
       "  <tbody>\n",
       "    <tr>\n",
       "      <th>0</th>\n",
       "      <td>David</td>\n",
       "      <td>Wallace</td>\n",
       "      <td>100</td>\n",
       "      <td>1967-11-17</td>\n",
       "      <td>M</td>\n",
       "      <td>250000</td>\n",
       "      <td>NaN</td>\n",
       "    </tr>\n",
       "    <tr>\n",
       "      <th>1</th>\n",
       "      <td>Jan</td>\n",
       "      <td>Levinson</td>\n",
       "      <td>101</td>\n",
       "      <td>1961-05-11</td>\n",
       "      <td>F</td>\n",
       "      <td>110000</td>\n",
       "      <td>100.0</td>\n",
       "    </tr>\n",
       "    <tr>\n",
       "      <th>2</th>\n",
       "      <td>Michael</td>\n",
       "      <td>Scott</td>\n",
       "      <td>102</td>\n",
       "      <td>1964-03-15</td>\n",
       "      <td>M</td>\n",
       "      <td>75000</td>\n",
       "      <td>100.0</td>\n",
       "    </tr>\n",
       "    <tr>\n",
       "      <th>3</th>\n",
       "      <td>Angela</td>\n",
       "      <td>Martin</td>\n",
       "      <td>103</td>\n",
       "      <td>1971-06-25</td>\n",
       "      <td>F</td>\n",
       "      <td>63000</td>\n",
       "      <td>102.0</td>\n",
       "    </tr>\n",
       "    <tr>\n",
       "      <th>4</th>\n",
       "      <td>Kelly</td>\n",
       "      <td>Kapoor</td>\n",
       "      <td>104</td>\n",
       "      <td>1980-02-05</td>\n",
       "      <td>F</td>\n",
       "      <td>55000</td>\n",
       "      <td>102.0</td>\n",
       "    </tr>\n",
       "    <tr>\n",
       "      <th>5</th>\n",
       "      <td>Stanley</td>\n",
       "      <td>Hudson</td>\n",
       "      <td>105</td>\n",
       "      <td>1958-02-19</td>\n",
       "      <td>M</td>\n",
       "      <td>69000</td>\n",
       "      <td>102.0</td>\n",
       "    </tr>\n",
       "    <tr>\n",
       "      <th>6</th>\n",
       "      <td>Josh</td>\n",
       "      <td>Porter</td>\n",
       "      <td>106</td>\n",
       "      <td>1969-09-05</td>\n",
       "      <td>M</td>\n",
       "      <td>78000</td>\n",
       "      <td>100.0</td>\n",
       "    </tr>\n",
       "    <tr>\n",
       "      <th>7</th>\n",
       "      <td>Andy</td>\n",
       "      <td>Bernard</td>\n",
       "      <td>107</td>\n",
       "      <td>1973-07-22</td>\n",
       "      <td>M</td>\n",
       "      <td>65000</td>\n",
       "      <td>106.0</td>\n",
       "    </tr>\n",
       "    <tr>\n",
       "      <th>8</th>\n",
       "      <td>Jim</td>\n",
       "      <td>Halpert</td>\n",
       "      <td>108</td>\n",
       "      <td>1978-10-01</td>\n",
       "      <td>M</td>\n",
       "      <td>71000</td>\n",
       "      <td>106.0</td>\n",
       "    </tr>\n",
       "    <tr>\n",
       "      <th>9</th>\n",
       "      <td>Oscar</td>\n",
       "      <td>Martinez</td>\n",
       "      <td>109</td>\n",
       "      <td>1968-02-19</td>\n",
       "      <td>M</td>\n",
       "      <td>69000</td>\n",
       "      <td>106.0</td>\n",
       "    </tr>\n",
       "    <tr>\n",
       "      <th>10</th>\n",
       "      <td>Kevin</td>\n",
       "      <td>Malone</td>\n",
       "      <td>110</td>\n",
       "      <td>1978-02-19</td>\n",
       "      <td>M</td>\n",
       "      <td>69000</td>\n",
       "      <td>106.0</td>\n",
       "    </tr>\n",
       "    <tr>\n",
       "      <th>11</th>\n",
       "      <td>Pam</td>\n",
       "      <td>Beesly</td>\n",
       "      <td>111</td>\n",
       "      <td>1988-02-19</td>\n",
       "      <td>F</td>\n",
       "      <td>69000</td>\n",
       "      <td>106.0</td>\n",
       "    </tr>\n",
       "  </tbody>\n",
       "</table>\n",
       "</div>"
      ],
      "text/plain": [
       "   first_name last_name  emp_id        born sex  salary  branch_id\n",
       "0       David   Wallace     100  1967-11-17   M  250000        NaN\n",
       "1         Jan  Levinson     101  1961-05-11   F  110000      100.0\n",
       "2     Michael     Scott     102  1964-03-15   M   75000      100.0\n",
       "3      Angela    Martin     103  1971-06-25   F   63000      102.0\n",
       "4       Kelly    Kapoor     104  1980-02-05   F   55000      102.0\n",
       "5     Stanley    Hudson     105  1958-02-19   M   69000      102.0\n",
       "6        Josh    Porter     106  1969-09-05   M   78000      100.0\n",
       "7        Andy   Bernard     107  1973-07-22   M   65000      106.0\n",
       "8         Jim   Halpert     108  1978-10-01   M   71000      106.0\n",
       "9       Oscar  Martinez     109  1968-02-19   M   69000      106.0\n",
       "10      Kevin    Malone     110  1978-02-19   M   69000      106.0\n",
       "11        Pam    Beesly     111  1988-02-19   F   69000      106.0"
      ]
     },
     "execution_count": 36,
     "metadata": {},
     "output_type": "execute_result"
    }
   ],
   "source": [
    "df"
   ]
  }
 ],
 "metadata": {
  "kernelspec": {
   "display_name": "Python 3 (ipykernel)",
   "language": "python",
   "name": "python3"
  },
  "language_info": {
   "codemirror_mode": {
    "name": "ipython",
    "version": 3
   },
   "file_extension": ".py",
   "mimetype": "text/x-python",
   "name": "python",
   "nbconvert_exporter": "python",
   "pygments_lexer": "ipython3",
   "version": "3.8.0"
  }
 },
 "nbformat": 4,
 "nbformat_minor": 5
}
